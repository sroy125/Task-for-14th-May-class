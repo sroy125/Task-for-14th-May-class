{
 "cells": [
  {
   "cell_type": "code",
   "execution_count": 1,
   "id": "116768c1",
   "metadata": {},
   "outputs": [],
   "source": [
    "s=\"this is My First Python programming class and i am learNING python string and its function\""
   ]
  },
  {
   "cell_type": "code",
   "execution_count": 2,
   "id": "d115aa04",
   "metadata": {},
   "outputs": [
    {
     "data": {
      "text/plain": [
       "'h   r tnrrmglsnimeNGyosi dtfco'"
      ]
     },
     "execution_count": 2,
     "metadata": {},
     "output_type": "execute_result"
    }
   ],
   "source": [
    "s[1:300:3]"
   ]
  },
  {
   "cell_type": "code",
   "execution_count": 4,
   "id": "4ab46547",
   "metadata": {},
   "outputs": [
    {
     "data": {
      "text/plain": [
       "'noitcnuf sti dna gnirts nohtyp GNINrael ma i dna ssalc gnimmargorp nohtyP tsriF yM si siht'"
      ]
     },
     "execution_count": 4,
     "metadata": {},
     "output_type": "execute_result"
    }
   ],
   "source": [
    "s[::-1]"
   ]
  },
  {
   "cell_type": "code",
   "execution_count": 5,
   "id": "de9ac52b",
   "metadata": {},
   "outputs": [],
   "source": [
    "s1=s.upper()"
   ]
  },
  {
   "cell_type": "code",
   "execution_count": 6,
   "id": "d106b7e3",
   "metadata": {},
   "outputs": [
    {
     "data": {
      "text/plain": [
       "'THIS IS MY FIRST PYTHON PROGRAMMING CLASS AND I AM LEARNING PYTHON STRING AND ITS FUNCTION'"
      ]
     },
     "execution_count": 6,
     "metadata": {},
     "output_type": "execute_result"
    }
   ],
   "source": [
    "s1"
   ]
  },
  {
   "cell_type": "code",
   "execution_count": 7,
   "id": "4f0ef145",
   "metadata": {},
   "outputs": [
    {
     "data": {
      "text/plain": [
       "['THIS',\n",
       " 'IS',\n",
       " 'MY',\n",
       " 'FIRST',\n",
       " 'PYTHON',\n",
       " 'PROGRAMMING',\n",
       " 'CLASS',\n",
       " 'AND',\n",
       " 'I',\n",
       " 'AM',\n",
       " 'LEARNING',\n",
       " 'PYTHON',\n",
       " 'STRING',\n",
       " 'AND',\n",
       " 'ITS',\n",
       " 'FUNCTION']"
      ]
     },
     "execution_count": 7,
     "metadata": {},
     "output_type": "execute_result"
    }
   ],
   "source": [
    "s1.split()"
   ]
  },
  {
   "cell_type": "code",
   "execution_count": 8,
   "id": "7f8930bb",
   "metadata": {},
   "outputs": [],
   "source": [
    "s2=s1.lower()"
   ]
  },
  {
   "cell_type": "code",
   "execution_count": 9,
   "id": "210f302c",
   "metadata": {},
   "outputs": [
    {
     "data": {
      "text/plain": [
       "'this is my first python programming class and i am learning python string and its function'"
      ]
     },
     "execution_count": 9,
     "metadata": {},
     "output_type": "execute_result"
    }
   ],
   "source": [
    "s2"
   ]
  },
  {
   "cell_type": "code",
   "execution_count": 10,
   "id": "fb26de51",
   "metadata": {},
   "outputs": [
    {
     "data": {
      "text/plain": [
       "'This is my first python programming class and i am learning python string and its function'"
      ]
     },
     "execution_count": 10,
     "metadata": {},
     "output_type": "execute_result"
    }
   ],
   "source": [
    "s2.capitalize()"
   ]
  },
  {
   "cell_type": "code",
   "execution_count": 11,
   "id": "52565207",
   "metadata": {},
   "outputs": [],
   "source": [
    "s=\"1285kgf\""
   ]
  },
  {
   "cell_type": "code",
   "execution_count": 12,
   "id": "3962693c",
   "metadata": {},
   "outputs": [
    {
     "data": {
      "text/plain": [
       "True"
      ]
     },
     "execution_count": 12,
     "metadata": {},
     "output_type": "execute_result"
    }
   ],
   "source": [
    "s.isalnum()"
   ]
  },
  {
   "cell_type": "code",
   "execution_count": 13,
   "id": "0913ff11",
   "metadata": {},
   "outputs": [
    {
     "data": {
      "text/plain": [
       "False"
      ]
     },
     "execution_count": 13,
     "metadata": {},
     "output_type": "execute_result"
    }
   ],
   "source": [
    "s.isalpha()"
   ]
  },
  {
   "cell_type": "code",
   "execution_count": 14,
   "id": "3df3508e",
   "metadata": {},
   "outputs": [],
   "source": [
    "s=\"suvojit\\troy\""
   ]
  },
  {
   "cell_type": "code",
   "execution_count": 15,
   "id": "1b8e5846",
   "metadata": {},
   "outputs": [
    {
     "data": {
      "text/plain": [
       "'suvojit roy'"
      ]
     },
     "execution_count": 15,
     "metadata": {},
     "output_type": "execute_result"
    }
   ],
   "source": [
    "s.expandtabs()"
   ]
  },
  {
   "cell_type": "code",
   "execution_count": 18,
   "id": "f7b840e9",
   "metadata": {},
   "outputs": [],
   "source": [
    "s=\"   suvojit   \""
   ]
  },
  {
   "cell_type": "code",
   "execution_count": 19,
   "id": "1395065c",
   "metadata": {},
   "outputs": [
    {
     "data": {
      "text/plain": [
       "'suvojit'"
      ]
     },
     "execution_count": 19,
     "metadata": {},
     "output_type": "execute_result"
    }
   ],
   "source": [
    "s.strip()"
   ]
  },
  {
   "cell_type": "code",
   "execution_count": 20,
   "id": "de55e6d3",
   "metadata": {},
   "outputs": [
    {
     "data": {
      "text/plain": [
       "'suvojit   '"
      ]
     },
     "execution_count": 20,
     "metadata": {},
     "output_type": "execute_result"
    }
   ],
   "source": [
    "s.lstrip()"
   ]
  },
  {
   "cell_type": "code",
   "execution_count": 21,
   "id": "7cd0218e",
   "metadata": {},
   "outputs": [
    {
     "data": {
      "text/plain": [
       "'   suvojit'"
      ]
     },
     "execution_count": 21,
     "metadata": {},
     "output_type": "execute_result"
    }
   ],
   "source": [
    "s.rstrip()"
   ]
  },
  {
   "cell_type": "code",
   "execution_count": 22,
   "id": "952081c1",
   "metadata": {},
   "outputs": [],
   "source": [
    "s=\"suvojit\""
   ]
  },
  {
   "cell_type": "code",
   "execution_count": 23,
   "id": "6d9a6aae",
   "metadata": {},
   "outputs": [
    {
     "data": {
      "text/plain": [
       "'suvxjit'"
      ]
     },
     "execution_count": 23,
     "metadata": {},
     "output_type": "execute_result"
    }
   ],
   "source": [
    "s.replace(\"o\",\"x\")"
   ]
  },
  {
   "cell_type": "code",
   "execution_count": 25,
   "id": "52492fc8",
   "metadata": {},
   "outputs": [
    {
     "data": {
      "text/plain": [
       "'#######suvojit#######'"
      ]
     },
     "execution_count": 25,
     "metadata": {},
     "output_type": "execute_result"
    }
   ],
   "source": [
    "s.center(21,\"#\")"
   ]
  },
  {
   "cell_type": "code",
   "execution_count": 27,
   "id": "760d1027",
   "metadata": {},
   "outputs": [],
   "source": [
    "complier=\"It is a language processor which sends the source code to a object code which converts it into a machine language code to give the output\""
   ]
  },
  {
   "cell_type": "code",
   "execution_count": 28,
   "id": "17fc278e",
   "metadata": {},
   "outputs": [],
   "source": [
    "interpretor=\"It is a language processor which sends the source code to a intermediate code which is then send to the interpretor, the interpretor then sends it to object code which is finally converted to a machine language code to give the output\""
   ]
  },
  {
   "cell_type": "code",
   "execution_count": 33,
   "id": "bf3cc8c0",
   "metadata": {},
   "outputs": [
    {
     "ename": "SyntaxError",
     "evalue": "invalid syntax (Temp/ipykernel_2392/3250734913.py, line 1)",
     "output_type": "error",
     "traceback": [
      "\u001b[1;36m  File \u001b[1;32m\"C:\\Users\\suvoj\\AppData\\Local\\Temp/ipykernel_2392/3250734913.py\"\u001b[1;36m, line \u001b[1;32m1\u001b[0m\n\u001b[1;33m    Python a interpreted language/a compiled language=\"\"Python language is both a compiled as well as an interpreted language. First the compiler function is executed in which the source code is broken down into a low level code called byte code. Then the interpreted fuction is performed in which the byte code is send to a virtual machine called interpretor which converts the bytecode to a machine language code to finally give the output\"\"\u001b[0m\n\u001b[1;37m           ^\u001b[0m\n\u001b[1;31mSyntaxError\u001b[0m\u001b[1;31m:\u001b[0m invalid syntax\n"
     ]
    }
   ],
   "source": [
    "Python a interpreted language/a compiled language=\"\"Python language is both a compiled as well as an interpreted language. First the compiler function is executed in which the source code is broken down into a low level code called byte code. Then the interpreted fuction is performed in which the byte code is send to a virtual machine called interpretor which converts the bytecode to a machine language code to finally give the output\"\""
   ]
  },
  {
   "cell_type": "code",
   "execution_count": 35,
   "id": "604dfada",
   "metadata": {},
   "outputs": [],
   "source": [
    "Python=\"In python first the compiled function is performed in which source code is send to object code where it is converted into low level code called byte code. Then the interpreted function is performed in which byte code is send to a virtual machine called the interpretor which converts the byte code to a machine language code to give the output\""
   ]
  },
  {
   "cell_type": "code",
   "execution_count": 37,
   "id": "d2b16388",
   "metadata": {},
   "outputs": [],
   "source": [
    "UseCase=\"Python can be used for web development, data visualization, machine learning\""
   ]
  },
  {
   "cell_type": "code",
   "execution_count": null,
   "id": "0b10028f",
   "metadata": {},
   "outputs": [],
   "source": []
  }
 ],
 "metadata": {
  "kernelspec": {
   "display_name": "Python 3 (ipykernel)",
   "language": "python",
   "name": "python3"
  },
  "language_info": {
   "codemirror_mode": {
    "name": "ipython",
    "version": 3
   },
   "file_extension": ".py",
   "mimetype": "text/x-python",
   "name": "python",
   "nbconvert_exporter": "python",
   "pygments_lexer": "ipython3",
   "version": "3.9.7"
  }
 },
 "nbformat": 4,
 "nbformat_minor": 5
}
